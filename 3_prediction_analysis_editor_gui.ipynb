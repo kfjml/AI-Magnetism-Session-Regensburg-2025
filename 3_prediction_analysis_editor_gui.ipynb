{
 "cells": [
  {
   "cell_type": "markdown",
   "id": "ddfefd26-5eb4-43de-9f42-97a6467f8e78",
   "metadata": {},
   "source": [
    "# Notebook 3) Skyrmion U-Net Analysis \n",
    "\n",
    "This notebook shows how to perform an analysis using the U-Net results. Basic tools are implemented in the following editor, all accessible via GUI without the need for coding. This can also be ideally used after the hands-on session."
   ]
  },
  {
   "cell_type": "markdown",
   "id": "bdf3397f-32eb-4477-ae68-e59758c3de72",
   "metadata": {},
   "source": [
    "## 1. Configure notebook & import packages"
   ]
  },
  {
   "cell_type": "code",
   "execution_count": null,
   "id": "cf542101-e99e-4321-8c31-6ae04cbaca83",
   "metadata": {},
   "outputs": [],
   "source": [
    "try:\n",
    "    import google.colab\n",
    "    in_colab = True\n",
    "    ![ ! -d \"AI-Magnetism-Session-Regensburg-2025\" ] ||  [ ! -d \"AI-Magnetism-Session-Regensburg-2025/.git\" ] && git clone https://github.com/kfjml/AI-Magnetism-Session-Regensburg-2025\n",
    "    ! pip install \"numba>=0.61.0,<0.62\" \"tensorflow[and-cuda]>=2.16.2,<3\" \"albumentations>=2.0.4,<3\"  \"pandas>=2.2.2,<3\" \"chardet>=5.2.0,<6\" \"opencv-python-headless>=4.11.0.86,<5\" \"wget>=3.2,<4\" \"pyyaml>=6.0.2, <7\" \"pillow>=11.1.0, <12\"\n",
    "    ! pip install \"ipympl>=0.9.6\" \"ipywidgets>=7.7.1\" \"matplotlib>=3.10.0,<4\"\n",
    "    basis_dir = \"/content/AI-Magnetism-Session-Regensburg-2025/\"\n",
    "    import sys\n",
    "    sys.path.append(basis_dir)\n",
    "\n",
    "    from google.colab import output\n",
    "    output.enable_custom_widget_manager()\n",
    "except:\n",
    "    basis_dir = \"./\"    \n",
    "    in_colab = False\n",
    "\n",
    "    \n",
    "import numpy as np\n",
    "from PIL import Image\n",
    "import matplotlib.pyplot as plt\n",
    "import zipfile\n",
    "import pandas as pd\n",
    "from UNetEditor import get_video_analysis\n",
    "from UNetEditor import UNetGUI\n",
    "\n",
    "tmp_folder,zip_folder,result_file=\"./tmp/\",\"zipfolder/\",\"result\"\n",
    "models = [(basis_dir+'models/2023_model.keras',\"Model 2023\",2),(basis_dir+'models/2022_model.keras',\"Model 2022\",1),(basis_dir+'models/2022_model_inv.keras',\"Model 2022 inverse\",1)]  "
   ]
  },
  {
   "cell_type": "markdown",
   "id": "0903ef82-7c65-4a65-8ba1-3561a0e0dedc",
   "metadata": {},
   "source": [
    "### If you are running this notebook in **Google Colab**, after executing the first cell (cell above), go to **Runtime → Restart session**, then rerun the first cell. After that, you can execute the cells below. This is necessary because some required packages are installed in Google Colab and need a restart to take effect."
   ]
  },
  {
   "cell_type": "markdown",
   "id": "49af4549-93b6-4fd2-a1e7-0cdef5939021",
   "metadata": {},
   "source": [
    "## 2. Editor for prediction & analysis"
   ]
  },
  {
   "cell_type": "markdown",
   "id": "f58801f5-92cc-4bcd-b9f8-96b779174088",
   "metadata": {},
   "source": [
    "After the segmentation of the image, it becomes easier to algorithmically identify the regions as individual objects (such as skyrmions or defects), calculate their position, size, etc., and conduct further analysis as shown here.\n",
    "\n",
    "\n",
    "\n",
    "\n",
    "\n"
   ]
  },
  {
   "cell_type": "code",
   "execution_count": null,
   "id": "f0534325-8b1c-4e23-be28-4af30c2df5fa",
   "metadata": {},
   "outputs": [],
   "source": [
    "plt.close(\"all\")\n",
    "%matplotlib widget         \n",
    "gui = UNetGUI(models,np.array(Image.open(basis_dir+\"example_kerr_microscopy_image.png\")),tmp_folder,zip_folder,result_file,colab=in_colab)\n",
    "gui"
   ]
  },
  {
   "cell_type": "code",
   "execution_count": null,
   "id": "f00f5af2-3403-4490-9210-a8c3950ed45c",
   "metadata": {},
   "outputs": [],
   "source": []
  },
  {
   "cell_type": "markdown",
   "id": "b96a6aef-abb5-4911-8222-8df77f0824fc",
   "metadata": {},
   "source": [
    "Access the data tables after prediction & analysis that are behind the GUI."
   ]
  },
  {
   "cell_type": "code",
   "execution_count": null,
   "id": "6b763824-575e-4bae-b743-fb4a649af9f7",
   "metadata": {},
   "outputs": [],
   "source": [
    "#The segmentation mask analysis\n",
    "segmentation_mask_table = gui.maskanalysisgui.analysis.get_datatable()\n",
    "segmentation_mask_table.to_csv(basis_dir+\"segmentation_mask_table.csv\",sep=\";\")\n",
    "segmentation_mask_table"
   ]
  },
  {
   "cell_type": "code",
   "execution_count": null,
   "id": "5ebe2531-7c83-4923-b063-71212b89295b",
   "metadata": {},
   "outputs": [],
   "source": [
    "#The position analysis\n",
    "position_table = gui.posanalysisgui.analysis.get_datatable()\n",
    "position_table.to_csv(basis_dir+\"position_table.csv\",sep=\";\")\n",
    "position_table.dropna()"
   ]
  },
  {
   "cell_type": "code",
   "execution_count": null,
   "id": "d4f16f08-2cf8-4e58-a3a1-48380ad0de4a",
   "metadata": {},
   "outputs": [],
   "source": []
  },
  {
   "cell_type": "code",
   "execution_count": null,
   "id": "fedce1ee-29d5-4b0c-8c81-40b975104620",
   "metadata": {},
   "outputs": [],
   "source": []
  },
  {
   "cell_type": "markdown",
   "id": "b6203589-4132-4a79-9bec-8a066486d483",
   "metadata": {},
   "source": [
    "## 3. Additional information\n",
    "\n",
    "Further information on the Skyrmion U-Net can be found in the paper: Labrie-Boulay et al., *Phys. Rev. Applied* **21**, 014014 (2023). The complete training data and models (the models are also included here in this repository) can be found in the Zenodo repository by Winkler et al. [https://zenodo.org/records/10997175](https://zenodo.org/records/10997175) (2024)."
   ]
  },
  {
   "cell_type": "code",
   "execution_count": null,
   "id": "10bd3b42-5d3a-462d-8ce1-f50be6914204",
   "metadata": {},
   "outputs": [],
   "source": []
  }
 ],
 "metadata": {
  "kernelspec": {
   "display_name": "Python 3 (ipykernel)",
   "language": "python",
   "name": "python3"
  },
  "language_info": {
   "codemirror_mode": {
    "name": "ipython",
    "version": 3
   },
   "file_extension": ".py",
   "mimetype": "text/x-python",
   "name": "python",
   "nbconvert_exporter": "python",
   "pygments_lexer": "ipython3",
   "version": "3.11.0"
  }
 },
 "nbformat": 4,
 "nbformat_minor": 5
}
