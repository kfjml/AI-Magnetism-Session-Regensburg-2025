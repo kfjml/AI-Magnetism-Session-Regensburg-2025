{
 "cells": [
  {
   "cell_type": "markdown",
   "id": "094bf817-1780-4d09-88d0-ac04da23600e",
   "metadata": {},
   "source": [
    "# Supplementary Notebook: Skyrmion U-Net Analysis Editor for Local Files\n",
    "\n",
    "This notebook demonstrates how to perform an analysis using the U-Net results with an editor similar to the one in `3_Editor.ipynb`. The key difference is that this notebook is designed to handle **large local files** more efficiently. Unlike the `3_Editor.ipynb` notebook, data is not temporarily loaded into the memory of the current notebook session, which makes it better suited for larger datasets. This notebook can also be ideally used after the hands-on session."
   ]
  },
  {
   "cell_type": "markdown",
   "id": "4a1c8429-4001-4b64-be8e-8cd6b7d415b7",
   "metadata": {},
   "source": [
    "## 0. Configure the notebook"
   ]
  },
  {
   "cell_type": "code",
   "execution_count": null,
   "id": "e2ed856e-b663-429f-8afb-a075aa3c74ef",
   "metadata": {},
   "outputs": [],
   "source": [
    "try:\n",
    "    import google.colab\n",
    "    in_colab = True\n",
    "    ![ ! -d \"AI-Magnetism-Session-Regensburg-2025\" ] ||  [ ! -d \"AI-Magnetism-Session-Regensburg-2025/.git\" ] && git clone https://github.com/kfjml/AI-Magnetism-Session-Regensburg-2025\n",
    "    ! pip install \"numba>=0.61.0,<0.62\" \"tensorflow[and-cuda]>=2.16.2,<3\" \"albumentations>=2.0.4,<3\"  \"pandas>=2.2.2,<3\" \"chardet>=5.2.0,<6\" \"opencv-python-headless>=4.11.0.86,<5\" \"wget>=3.2,<4\" \"pyyaml>=6.0.2, <7\" \"pillow>=11.1.0, <12\"\n",
    "    ! pip install \"ipympl>=0.9.6\" \"ipywidgets>=7.7.1\" \"matplotlib>=3.10.0,<4\"\n",
    "    basis_dir = \"/content/AI-Magnetism-Session-Regensburg-2025/\"\n",
    "    import sys\n",
    "    sys.path.append(basis_dir)\n",
    "\n",
    "    from google.colab import output\n",
    "    output.enable_custom_widget_manager()\n",
    "except:\n",
    "    basis_dir = \"./\"    \n",
    "    in_colab = False\n",
    "\n",
    "from UNetEditor import UNetGUI\n",
    "from UNetEditor import get_video_analysis,get_batch_analysis\n",
    "from PIL import Image\n",
    "import matplotlib.pyplot as plt\n",
    "import numpy as np\n",
    "import zipfile\n",
    "import pandas as pd\n",
    "import os\n",
    "\n",
    "basis_dir = \"./\"         \n",
    "tmp_folder,zip_folder,result_file=\"./tmp/\",\"zipfolder/\",\"result\"\n",
    "models = [(basis_dir+'models/2023_model.keras',\"Model 2023\",2),(basis_dir+'models/2022_model.keras',\"Model 2022\",1),(basis_dir+'models/2022_model_inv.keras',\"Model 2022 inverse\",1)]  "
   ]
  },
  {
   "cell_type": "markdown",
   "id": "0c30391d-26c1-4e03-8c76-517636114b8a",
   "metadata": {},
   "source": [
    "### If you are running this notebook in **Google Colab**, after executing the first cell (cell above), go to **Runtime → Restart session**, then rerun the first cell. After that, you can execute the cells below. This is necessary because some required packages are installed in Google Colab and need a restart to take effect."
   ]
  },
  {
   "cell_type": "markdown",
   "id": "dc6b2f9f-fc42-4ae9-8c32-f0aca3381623",
   "metadata": {},
   "source": [
    "## 1. Process Local Video File"
   ]
  },
  {
   "cell_type": "markdown",
   "id": "d6ff3751-ed08-42d8-8089-7911f614cc1a",
   "metadata": {},
   "source": [
    "Load the first frame of a video to set the settings in the editor, make a sample prediction, and configure the analysis settings. After that, the entire set of frames will be predicted.  In the section below this code, there is an example for processing a batch of local images."
   ]
  },
  {
   "cell_type": "code",
   "execution_count": null,
   "id": "f8be7400-5a5d-4c9e-b4b6-9e41f07b2685",
   "metadata": {},
   "outputs": [],
   "source": [
    "def get_frame(video_file):\n",
    "    import cv2\n",
    "    cap = cv2.VideoCapture(video_file)\n",
    "    ret,frame = cap.read()\n",
    "    if not ret: \n",
    "        print(\"Error: \",video_file)\n",
    "        return None\n",
    "    cap.release()\n",
    "    return frame\n",
    "\n",
    "video_file = \"../test.avi\"#change this file name to the local filepath of the video\n",
    "frame = get_frame(video_file)"
   ]
  },
  {
   "cell_type": "markdown",
   "id": "c7459482-b511-4ed2-ab5d-10a286a69aa5",
   "metadata": {},
   "source": [
    "Set the settings in the editor, make a sample prediction with the first frame, and configure the analysis settings using the first frame."
   ]
  },
  {
   "cell_type": "code",
   "execution_count": null,
   "id": "0f511f2f-b6a2-4fc4-89c8-cd156ff8ddfa",
   "metadata": {},
   "outputs": [],
   "source": [
    "plt.close(\"all\")\n",
    "%matplotlib widget  \n",
    "gui = UNetGUI(models,frame,tmp_folder,zip_folder,result_file,change_img=False,colab=in_colab)\n",
    "gui"
   ]
  },
  {
   "cell_type": "markdown",
   "id": "254ff6c3-1227-4c15-8c76-77dd47cfa0ea",
   "metadata": {},
   "source": [
    "Now, with these settings/configurations, predict the entire video. "
   ]
  },
  {
   "cell_type": "code",
   "execution_count": null,
   "id": "bac0605e-c277-4d31-83f8-913ecac9716d",
   "metadata": {},
   "outputs": [],
   "source": [
    "config = gui.get_config()\n",
    "if not ((config[\"mask_analysis_editor\"] is None) or (config[\"pos_analysis_editor\"] is None)):\n",
    "    file = get_video_analysis(video_file,config,tmp_folder+zip_folder,tmp_folder+result_file)\n",
    "    print(\"Result saved in \",file)\n",
    "else:\n",
    "    print(\"Set the parameters in the GUI ! (min. click predict)\")"
   ]
  },
  {
   "cell_type": "markdown",
   "id": "15e09416-b45b-4e69-99f1-dea62316da98",
   "metadata": {},
   "source": [
    "Check the resulting zip file by loading its contents."
   ]
  },
  {
   "cell_type": "code",
   "execution_count": null,
   "id": "0f46f701-4987-4f8e-a7cc-0829e3f328dc",
   "metadata": {},
   "outputs": [],
   "source": [
    "arch = zipfile.ZipFile(file,\"r\")\n",
    "print(file,arch.namelist())\n",
    "lcsv = sorted([ele for ele in arch.namelist() if ele.endswith(\".csv\")])\n",
    "lpng = sorted([ele for ele in arch.namelist() if ele.endswith(\".png\")])"
   ]
  },
  {
   "cell_type": "markdown",
   "id": "005aaaf3-d679-436b-ab34-eb2b72949033",
   "metadata": {},
   "source": [
    "Examine one prediction and the corresponding CSV file for a single frame."
   ]
  },
  {
   "cell_type": "code",
   "execution_count": null,
   "id": "6fbe2367-9b7a-4251-8cb3-3c5c70448e12",
   "metadata": {},
   "outputs": [],
   "source": [
    "plt.close(\"all\")\n",
    "%matplotlib inline  \n",
    "\n",
    "ix = 0\n",
    "print(lcsv[ix],lpng[ix])\n",
    "fig,ax = plt.subplots()\n",
    "ax.imshow(plt.imread(arch.open(lpng[ix],\"r\")))\n",
    "pd.read_csv(arch.open(lcsv[ix],\"r\"))"
   ]
  },
  {
   "cell_type": "markdown",
   "id": "97259224-019b-4247-aac1-5cc7382e4817",
   "metadata": {},
   "source": [
    "## 2. Process Local Batch of Images"
   ]
  },
  {
   "cell_type": "markdown",
   "id": "fd26f2e8-4f95-4907-a914-45402a16b287",
   "metadata": {},
   "source": [
    "Load the batch of images."
   ]
  },
  {
   "cell_type": "code",
   "execution_count": null,
   "id": "551f77b7-757f-4a59-a891-86c58f65de30",
   "metadata": {},
   "outputs": [],
   "source": [
    "import glob\n",
    "image_filename_list = [\"test.png\",\"test1.png\"]\n",
    "image_list = [(np.array(Image.open(ele)),os.path.basename(ele)) for ele in  image_filename_list]"
   ]
  },
  {
   "cell_type": "markdown",
   "id": "a064d4d2-ca56-4a3e-b75f-bb7c68d7f3e9",
   "metadata": {},
   "source": [
    "Set the settings in the editor, make a sample prediction, and configure the analysis settings for a single image."
   ]
  },
  {
   "cell_type": "code",
   "execution_count": null,
   "id": "0ce31ddc-cfdd-4364-b114-81f40dd29351",
   "metadata": {},
   "outputs": [],
   "source": [
    "plt.close(\"all\")\n",
    "%matplotlib widget  \n",
    "gui = UNetGUI(models,image_list[0][0],tmp_folder,zip_folder,result_file,change_img=False,colab=in_colab)\n",
    "gui"
   ]
  },
  {
   "cell_type": "markdown",
   "id": "cb171602-31c9-41c9-a46e-9242c4d334d1",
   "metadata": {},
   "source": [
    "Now, with these settings/configurations, predict the entire batch of images. "
   ]
  },
  {
   "cell_type": "code",
   "execution_count": null,
   "id": "98d19a9e-bcb2-4736-b1c8-0df7cd72da67",
   "metadata": {},
   "outputs": [],
   "source": [
    "config = gui.get_config()\n",
    "if not ((config[\"mask_analysis_editor\"] is None) or (config[\"pos_analysis_editor\"] is None)):\n",
    "    file = get_batch_analysis(image_list,config,tmp_folder+zip_folder,tmp_folder+result_file)\n",
    "    print(\"Result saved in \",file)\n",
    "else:\n",
    "    print(\"Set the parameters in the GUI ! (min. click predict)\")"
   ]
  },
  {
   "cell_type": "markdown",
   "id": "7adefaf3-ddac-401d-837f-5e60dd08b4d5",
   "metadata": {},
   "source": [
    "Check the resulting zip file by loading its contents."
   ]
  },
  {
   "cell_type": "code",
   "execution_count": null,
   "id": "cc79e72b-cde1-4c05-b5a9-3d33ee00e192",
   "metadata": {},
   "outputs": [],
   "source": [
    "arch = zipfile.ZipFile(file,\"r\")\n",
    "print(file,arch.namelist())\n",
    "lcsv = sorted([ele for ele in arch.namelist() if ele.endswith(\".csv\")])\n",
    "lpng = sorted([ele for ele in arch.namelist() if ele.endswith(\".png\")])"
   ]
  },
  {
   "cell_type": "markdown",
   "id": "99a4205a-d242-4a8e-8974-2f2135efa226",
   "metadata": {},
   "source": [
    "Examine one prediction and the corresponding CSV file for a single image."
   ]
  },
  {
   "cell_type": "code",
   "execution_count": null,
   "id": "ece8b759-9aad-41e1-b08d-688c7ddd4963",
   "metadata": {},
   "outputs": [],
   "source": [
    "plt.close(\"all\")\n",
    "%matplotlib inline  \n",
    "\n",
    "ix = 0\n",
    "print(lcsv[ix],lpng[ix])\n",
    "fig,ax = plt.subplots()\n",
    "ax.imshow(plt.imread(arch.open(lpng[ix],\"r\")))\n",
    "pd.read_csv(arch.open(lcsv[ix],\"r\"))"
   ]
  },
  {
   "cell_type": "code",
   "execution_count": null,
   "id": "7793b3b6-9e54-438f-9a4a-d33ea00661fd",
   "metadata": {},
   "outputs": [],
   "source": []
  }
 ],
 "metadata": {
  "kernelspec": {
   "display_name": "Python 3 (ipykernel)",
   "language": "python",
   "name": "python3"
  },
  "language_info": {
   "codemirror_mode": {
    "name": "ipython",
    "version": 3
   },
   "file_extension": ".py",
   "mimetype": "text/x-python",
   "name": "python",
   "nbconvert_exporter": "python",
   "pygments_lexer": "ipython3",
   "version": "3.11.0"
  }
 },
 "nbformat": 4,
 "nbformat_minor": 5
}
